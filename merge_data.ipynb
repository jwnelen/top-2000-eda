{
 "cells": [
  {
   "cell_type": "code",
   "execution_count": 16,
   "metadata": {},
   "outputs": [],
   "source": [
    "import pandas as pd\n",
    "from tqdm import tqdm"
   ]
  },
  {
   "cell_type": "code",
   "execution_count": 17,
   "metadata": {},
   "outputs": [
    {
     "name": "stderr",
     "output_type": "stream",
     "text": [
      "100%|██████████| 26/26 [00:01<00:00, 24.71it/s]\n"
     ]
    },
    {
     "data": {
      "text/html": [
       "<div>\n",
       "<style scoped>\n",
       "    .dataframe tbody tr th:only-of-type {\n",
       "        vertical-align: middle;\n",
       "    }\n",
       "\n",
       "    .dataframe tbody tr th {\n",
       "        vertical-align: top;\n",
       "    }\n",
       "\n",
       "    .dataframe thead th {\n",
       "        text-align: right;\n",
       "    }\n",
       "</style>\n",
       "<table border=\"1\" class=\"dataframe\">\n",
       "  <thead>\n",
       "    <tr style=\"text-align: right;\">\n",
       "      <th></th>\n",
       "      <th>positie</th>\n",
       "      <th>titel</th>\n",
       "      <th>artiest</th>\n",
       "      <th>jaartal</th>\n",
       "      <th>lijst_jaar</th>\n",
       "    </tr>\n",
       "  </thead>\n",
       "  <tbody>\n",
       "    <tr>\n",
       "      <th>0</th>\n",
       "      <td>1</td>\n",
       "      <td>Bohemian Rhapsody</td>\n",
       "      <td>Queen</td>\n",
       "      <td>1975</td>\n",
       "      <td>1999</td>\n",
       "    </tr>\n",
       "    <tr>\n",
       "      <th>1</th>\n",
       "      <td>2</td>\n",
       "      <td>Hotel California</td>\n",
       "      <td>Eagles</td>\n",
       "      <td>1977</td>\n",
       "      <td>1999</td>\n",
       "    </tr>\n",
       "    <tr>\n",
       "      <th>2</th>\n",
       "      <td>3</td>\n",
       "      <td>Child In Time</td>\n",
       "      <td>Deep Purple</td>\n",
       "      <td>1972</td>\n",
       "      <td>1999</td>\n",
       "    </tr>\n",
       "    <tr>\n",
       "      <th>3</th>\n",
       "      <td>4</td>\n",
       "      <td>Stairway To Heaven</td>\n",
       "      <td>Led Zeppelin</td>\n",
       "      <td>1971</td>\n",
       "      <td>1999</td>\n",
       "    </tr>\n",
       "    <tr>\n",
       "      <th>4</th>\n",
       "      <td>5</td>\n",
       "      <td>Paradise By The Dashboard Light</td>\n",
       "      <td>Meat Loaf</td>\n",
       "      <td>1978</td>\n",
       "      <td>1999</td>\n",
       "    </tr>\n",
       "    <tr>\n",
       "      <th>...</th>\n",
       "      <td>...</td>\n",
       "      <td>...</td>\n",
       "      <td>...</td>\n",
       "      <td>...</td>\n",
       "      <td>...</td>\n",
       "    </tr>\n",
       "    <tr>\n",
       "      <th>51995</th>\n",
       "      <td>1996</td>\n",
       "      <td>Once Upon A Time In The West</td>\n",
       "      <td>Dire Straits</td>\n",
       "      <td>1979</td>\n",
       "      <td>2024</td>\n",
       "    </tr>\n",
       "    <tr>\n",
       "      <th>51996</th>\n",
       "      <td>1997</td>\n",
       "      <td>Bobby Jean</td>\n",
       "      <td>Bruce Springsteen</td>\n",
       "      <td>1984</td>\n",
       "      <td>2024</td>\n",
       "    </tr>\n",
       "    <tr>\n",
       "      <th>51997</th>\n",
       "      <td>1998</td>\n",
       "      <td>De Langste Nacht</td>\n",
       "      <td>Goldband</td>\n",
       "      <td>2021</td>\n",
       "      <td>2024</td>\n",
       "    </tr>\n",
       "    <tr>\n",
       "      <th>51998</th>\n",
       "      <td>1999</td>\n",
       "      <td>It's The End Of The World As We Know It (Album...</td>\n",
       "      <td>R.E.M.</td>\n",
       "      <td>1987</td>\n",
       "      <td>2024</td>\n",
       "    </tr>\n",
       "    <tr>\n",
       "      <th>51999</th>\n",
       "      <td>2000</td>\n",
       "      <td>I Sat By The Ocean</td>\n",
       "      <td>Queens Of The Stone Age</td>\n",
       "      <td>2013</td>\n",
       "      <td>2024</td>\n",
       "    </tr>\n",
       "  </tbody>\n",
       "</table>\n",
       "<p>52000 rows × 5 columns</p>\n",
       "</div>"
      ],
      "text/plain": [
       "       positie                                              titel  \\\n",
       "0            1                                  Bohemian Rhapsody   \n",
       "1            2                                   Hotel California   \n",
       "2            3                                      Child In Time   \n",
       "3            4                                 Stairway To Heaven   \n",
       "4            5                    Paradise By The Dashboard Light   \n",
       "...        ...                                                ...   \n",
       "51995     1996                       Once Upon A Time In The West   \n",
       "51996     1997                                         Bobby Jean   \n",
       "51997     1998                                   De Langste Nacht   \n",
       "51998     1999  It's The End Of The World As We Know It (Album...   \n",
       "51999     2000                                 I Sat By The Ocean   \n",
       "\n",
       "                       artiest  jaartal  lijst_jaar  \n",
       "0                        Queen     1975        1999  \n",
       "1                       Eagles     1977        1999  \n",
       "2                  Deep Purple     1972        1999  \n",
       "3                 Led Zeppelin     1971        1999  \n",
       "4                    Meat Loaf     1978        1999  \n",
       "...                        ...      ...         ...  \n",
       "51995             Dire Straits     1979        2024  \n",
       "51996        Bruce Springsteen     1984        2024  \n",
       "51997                 Goldband     2021        2024  \n",
       "51998                   R.E.M.     1987        2024  \n",
       "51999  Queens Of The Stone Age     2013        2024  \n",
       "\n",
       "[52000 rows x 5 columns]"
      ]
     },
     "execution_count": 17,
     "metadata": {},
     "output_type": "execute_result"
    }
   ],
   "source": [
    "folder = \"data\"\n",
    "full_list = pd.DataFrame()\n",
    "start_year = 1999\n",
    "end_year = 2024\n",
    "\n",
    "column_renames = {\n",
    "    \"notering\": \"positie\",\n",
    "    \"nr.\": \"positie\",\n",
    "    \"nr\": \"positie\",\n",
    "    \"jaar\": \"jaartal\",\n",
    "    \"year\": \"jaartal\",\n",
    "    \"title\": \"titel\",\n",
    "    \"artist\": \"artiest\",\n",
    "}\n",
    "\n",
    "for year in tqdm(range(start_year, end_year+1)):\n",
    "    df = pd.read_excel(f'{folder}/TOP-2000-{year}.xlsx')\n",
    "    if len(df) > 2000:\n",
    "        df = df.iloc[1:]\n",
    "    df.columns = [str.lower(col) for col in df.columns]\n",
    "    df.rename(columns=column_renames, inplace=True)\n",
    "    df['lijst_jaar'] = year\n",
    "    df['positie'] = df['positie'].astype(int)\n",
    "    df['jaartal'] = df['jaartal'].astype(int)\n",
    "    df['lijst_jaar'] = df['lijst_jaar'].astype(int)\n",
    "    full_list = pd.concat([full_list, df], ignore_index=True)\n",
    "full_list"
   ]
  },
  {
   "cell_type": "code",
   "execution_count": 18,
   "metadata": {},
   "outputs": [
    {
     "data": {
      "text/html": [
       "<div>\n",
       "<style scoped>\n",
       "    .dataframe tbody tr th:only-of-type {\n",
       "        vertical-align: middle;\n",
       "    }\n",
       "\n",
       "    .dataframe tbody tr th {\n",
       "        vertical-align: top;\n",
       "    }\n",
       "\n",
       "    .dataframe thead th {\n",
       "        text-align: right;\n",
       "    }\n",
       "</style>\n",
       "<table border=\"1\" class=\"dataframe\">\n",
       "  <thead>\n",
       "    <tr style=\"text-align: right;\">\n",
       "      <th></th>\n",
       "      <th>duration</th>\n",
       "      <th>album</th>\n",
       "      <th>tags</th>\n",
       "      <th>artist</th>\n",
       "      <th>song</th>\n",
       "    </tr>\n",
       "  </thead>\n",
       "  <tbody>\n",
       "    <tr>\n",
       "      <th>0</th>\n",
       "      <td>355000</td>\n",
       "      <td>A Night at the Opera</td>\n",
       "      <td>['classic rock', 'rock', 'Queen']</td>\n",
       "      <td>Queen</td>\n",
       "      <td>Bohemian Rhapsody</td>\n",
       "    </tr>\n",
       "  </tbody>\n",
       "</table>\n",
       "</div>"
      ],
      "text/plain": [
       "   duration                 album                               tags artist  \\\n",
       "0    355000  A Night at the Opera  ['classic rock', 'rock', 'Queen']  Queen   \n",
       "\n",
       "                song  \n",
       "0  Bohemian Rhapsody  "
      ]
     },
     "execution_count": 18,
     "metadata": {},
     "output_type": "execute_result"
    }
   ],
   "source": [
    "meta_data = pd.read_csv(f\"{folder}/song_metadata.csv\")\n",
    "meta_data.head(1)"
   ]
  },
  {
   "cell_type": "code",
   "execution_count": 19,
   "metadata": {},
   "outputs": [
    {
     "data": {
      "text/html": [
       "<div>\n",
       "<style scoped>\n",
       "    .dataframe tbody tr th:only-of-type {\n",
       "        vertical-align: middle;\n",
       "    }\n",
       "\n",
       "    .dataframe tbody tr th {\n",
       "        vertical-align: top;\n",
       "    }\n",
       "\n",
       "    .dataframe thead th {\n",
       "        text-align: right;\n",
       "    }\n",
       "</style>\n",
       "<table border=\"1\" class=\"dataframe\">\n",
       "  <thead>\n",
       "    <tr style=\"text-align: right;\">\n",
       "      <th></th>\n",
       "      <th>positie</th>\n",
       "      <th>titel</th>\n",
       "      <th>artiest</th>\n",
       "      <th>jaartal</th>\n",
       "      <th>lijst_jaar</th>\n",
       "      <th>duration</th>\n",
       "      <th>album</th>\n",
       "      <th>tags</th>\n",
       "    </tr>\n",
       "  </thead>\n",
       "  <tbody>\n",
       "    <tr>\n",
       "      <th>0</th>\n",
       "      <td>1</td>\n",
       "      <td>Bohemian Rhapsody</td>\n",
       "      <td>Queen</td>\n",
       "      <td>1975</td>\n",
       "      <td>1999</td>\n",
       "      <td>355000.0</td>\n",
       "      <td>A Night at the Opera</td>\n",
       "      <td>['classic rock', 'rock', 'Queen']</td>\n",
       "    </tr>\n",
       "  </tbody>\n",
       "</table>\n",
       "</div>"
      ],
      "text/plain": [
       "   positie              titel artiest  jaartal  lijst_jaar  duration  \\\n",
       "0        1  Bohemian Rhapsody   Queen     1975        1999  355000.0   \n",
       "\n",
       "                  album                               tags  \n",
       "0  A Night at the Opera  ['classic rock', 'rock', 'Queen']  "
      ]
     },
     "execution_count": 19,
     "metadata": {},
     "output_type": "execute_result"
    }
   ],
   "source": [
    "merged = pd.merge(\n",
    "    full_list,\n",
    "    meta_data,\n",
    "    how=\"left\",\n",
    "    left_on=[\"titel\", \"artiest\"],\n",
    "    right_on=[\"song\", \"artist\"],\n",
    ").drop(columns=[\"song\", \"artist\"])\n",
    "merged.head(1)"
   ]
  },
  {
   "cell_type": "code",
   "execution_count": 20,
   "metadata": {},
   "outputs": [
    {
     "data": {
      "text/plain": [
       "positie          0\n",
       "titel            0\n",
       "artiest          0\n",
       "jaartal          0\n",
       "lijst_jaar       0\n",
       "duration       425\n",
       "album         2749\n",
       "tags           425\n",
       "dtype: int64"
      ]
     },
     "execution_count": 20,
     "metadata": {},
     "output_type": "execute_result"
    }
   ],
   "source": [
    "# Looking at the null values\n",
    "merged.isnull().sum()"
   ]
  },
  {
   "cell_type": "code",
   "execution_count": 21,
   "metadata": {},
   "outputs": [],
   "source": [
    "merged[\"artiest\"] = merged[\"artiest\"].str.replace(\"The \", \"\")"
   ]
  },
  {
   "cell_type": "code",
   "execution_count": 22,
   "metadata": {},
   "outputs": [],
   "source": [
    "merged[\"full_track\"] = merged[\"titel\"] + \" - \" + merged[\"artiest\"]"
   ]
  },
  {
   "cell_type": "code",
   "execution_count": 23,
   "metadata": {},
   "outputs": [
    {
     "data": {
      "text/plain": [
       "49939    hopeless wanderer - mumford & sons\n",
       "37938     black magic woman - fleetwood mac\n",
       "9613               photograph - ringo starr\n",
       "Name: track_id, dtype: object"
      ]
     },
     "execution_count": 23,
     "metadata": {},
     "output_type": "execute_result"
    }
   ],
   "source": [
    "def preprocess_full_track(track):\n",
    "    track = track.lower().replace(\"(albumversie)\", \"\")\n",
    "    track = track.replace(\"(live)\", \"\")\n",
    "    track = track.replace(\"(singleversie)\", \"\")\n",
    "    return track\n",
    "\n",
    "merged[\"track_id\"] = merged[\"full_track\"].apply(preprocess_full_track)\n",
    "merged[\"track_id\"].sample(3)"
   ]
  },
  {
   "cell_type": "code",
   "execution_count": 24,
   "metadata": {},
   "outputs": [
    {
     "data": {
      "text/plain": [
       "33463      inbetweendayscure\n",
       "42368              omarmbløf\n",
       "21384    laislabonitamadonna\n",
       "Name: track_id, dtype: object"
      ]
     },
     "execution_count": 24,
     "metadata": {},
     "output_type": "execute_result"
    }
   ],
   "source": [
    "def build_track_id(track):\n",
    "    return \"\".join(e for e in track if e.isalnum())\n",
    "\n",
    "merged[\"track_id\"] = merged[\"track_id\"].apply(build_track_id)\n",
    "merged[\"track_id\"].sample(3)"
   ]
  },
  {
   "cell_type": "code",
   "execution_count": 25,
   "metadata": {},
   "outputs": [],
   "source": [
    "# Dropping the full track column\n",
    "merged.drop(columns=[\"full_track\"], inplace=True)"
   ]
  },
  {
   "cell_type": "code",
   "execution_count": 26,
   "metadata": {},
   "outputs": [],
   "source": [
    "folder = \"data/final\"\n",
    "merged.to_parquet(f\"{folder}/final.parquet\", index=False)"
   ]
  }
 ],
 "metadata": {
  "kernelspec": {
   "display_name": ".venv",
   "language": "python",
   "name": "python3"
  },
  "language_info": {
   "codemirror_mode": {
    "name": "ipython",
    "version": 3
   },
   "file_extension": ".py",
   "mimetype": "text/x-python",
   "name": "python",
   "nbconvert_exporter": "python",
   "pygments_lexer": "ipython3",
   "version": "3.12.5"
  }
 },
 "nbformat": 4,
 "nbformat_minor": 2
}
