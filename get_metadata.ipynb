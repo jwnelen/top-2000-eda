{
 "cells": [
  {
   "cell_type": "code",
   "execution_count": 1,
   "metadata": {},
   "outputs": [],
   "source": [
    "import numpy as np\n",
    "import pandas as pd\n",
    "import requests"
   ]
  },
  {
   "cell_type": "code",
   "execution_count": 91,
   "metadata": {},
   "outputs": [],
   "source": [
    "column_renames = {\n",
    "  \"notering\": \"positie\",\n",
    "  \"nr.\": \"positie\",\n",
    "  \"nr\": \"positie\",\n",
    "  \"jaar\": \"jaartal\",\n",
    "  \"year\": \"jaartal\",\n",
    "  \"title\": \"titel\",\n",
    "  \"artist\": \"artiest\"\n",
    "}"
   ]
  },
  {
   "cell_type": "code",
   "execution_count": 92,
   "metadata": {},
   "outputs": [
    {
     "name": "stdout",
     "output_type": "stream",
     "text": [
      "['positie' 'titel' 'artiest' 'jaartal']\n",
      "['positie' 'titel' 'artiest' 'jaartal']\n",
      "['positie' 'titel' 'artiest' 'jaartal']\n",
      "['positie' 'titel' 'artiest' 'jaartal']\n",
      "['positie' 'titel' 'artiest' 'jaartal']\n",
      "['positie' 'titel' 'artiest' 'jaartal']\n",
      "['positie' 'titel' 'artiest' 'jaartal']\n",
      "['positie' 'titel' 'artiest' 'jaartal']\n",
      "['positie' 'titel' 'artiest' 'jaartal']\n",
      "['positie' 'titel' 'artiest' 'jaartal']\n",
      "['positie' 'titel' 'artiest' 'jaartal']\n",
      "['positie' 'titel' 'artiest' 'jaartal']\n",
      "['positie' 'titel' 'artiest' 'jaartal']\n",
      "['positie' 'titel' 'artiest' 'jaartal']\n",
      "['positie' 'titel' 'artiest' 'jaartal']\n",
      "['positie' 'titel' 'artiest' 'jaartal']\n",
      "['positie' 'titel' 'artiest' 'jaartal']\n",
      "['positie' 'titel' 'artiest' 'jaartal']\n",
      "['positie' 'titel' 'artiest' 'jaartal']\n",
      "['positie' 'titel' 'artiest' 'jaartal']\n",
      "['positie' 'titel' 'artiest' 'jaartal']\n",
      "['positie' 'titel' 'artiest' 'jaartal']\n",
      "['positie' 'titel' 'artiest' 'jaartal']\n",
      "['positie' 'titel' 'artiest' 'jaartal']\n",
      "['positie' 'titel' 'artiest' 'jaartal']\n",
      "['positie' 'titel' 'artiest' 'jaartal']\n"
     ]
    },
    {
     "data": {
      "text/html": [
       "<div>\n",
       "<style scoped>\n",
       "    .dataframe tbody tr th:only-of-type {\n",
       "        vertical-align: middle;\n",
       "    }\n",
       "\n",
       "    .dataframe tbody tr th {\n",
       "        vertical-align: top;\n",
       "    }\n",
       "\n",
       "    .dataframe thead th {\n",
       "        text-align: right;\n",
       "    }\n",
       "</style>\n",
       "<table border=\"1\" class=\"dataframe\">\n",
       "  <thead>\n",
       "    <tr style=\"text-align: right;\">\n",
       "      <th></th>\n",
       "      <th>positie</th>\n",
       "      <th>titel</th>\n",
       "      <th>artiest</th>\n",
       "      <th>jaartal</th>\n",
       "      <th>lijst_jaar</th>\n",
       "    </tr>\n",
       "  </thead>\n",
       "  <tbody>\n",
       "    <tr>\n",
       "      <th>0</th>\n",
       "      <td>1</td>\n",
       "      <td>Bohemian Rhapsody</td>\n",
       "      <td>Queen</td>\n",
       "      <td>1975</td>\n",
       "      <td>1999</td>\n",
       "    </tr>\n",
       "    <tr>\n",
       "      <th>1</th>\n",
       "      <td>2</td>\n",
       "      <td>Hotel California</td>\n",
       "      <td>Eagles</td>\n",
       "      <td>1977</td>\n",
       "      <td>1999</td>\n",
       "    </tr>\n",
       "    <tr>\n",
       "      <th>2</th>\n",
       "      <td>3</td>\n",
       "      <td>Child In Time</td>\n",
       "      <td>Deep Purple</td>\n",
       "      <td>1972</td>\n",
       "      <td>1999</td>\n",
       "    </tr>\n",
       "    <tr>\n",
       "      <th>3</th>\n",
       "      <td>4</td>\n",
       "      <td>Stairway To Heaven</td>\n",
       "      <td>Led Zeppelin</td>\n",
       "      <td>1971</td>\n",
       "      <td>1999</td>\n",
       "    </tr>\n",
       "    <tr>\n",
       "      <th>4</th>\n",
       "      <td>5</td>\n",
       "      <td>Paradise By The Dashboard Light</td>\n",
       "      <td>Meat Loaf</td>\n",
       "      <td>1978</td>\n",
       "      <td>1999</td>\n",
       "    </tr>\n",
       "    <tr>\n",
       "      <th>...</th>\n",
       "      <td>...</td>\n",
       "      <td>...</td>\n",
       "      <td>...</td>\n",
       "      <td>...</td>\n",
       "      <td>...</td>\n",
       "    </tr>\n",
       "    <tr>\n",
       "      <th>51995</th>\n",
       "      <td>1996</td>\n",
       "      <td>Once Upon A Time In The West</td>\n",
       "      <td>Dire Straits</td>\n",
       "      <td>1979</td>\n",
       "      <td>2024</td>\n",
       "    </tr>\n",
       "    <tr>\n",
       "      <th>51996</th>\n",
       "      <td>1997</td>\n",
       "      <td>Bobby Jean</td>\n",
       "      <td>Bruce Springsteen</td>\n",
       "      <td>1984</td>\n",
       "      <td>2024</td>\n",
       "    </tr>\n",
       "    <tr>\n",
       "      <th>51997</th>\n",
       "      <td>1998</td>\n",
       "      <td>De Langste Nacht</td>\n",
       "      <td>Goldband</td>\n",
       "      <td>2021</td>\n",
       "      <td>2024</td>\n",
       "    </tr>\n",
       "    <tr>\n",
       "      <th>51998</th>\n",
       "      <td>1999</td>\n",
       "      <td>It's The End Of The World As We Know It (Album...</td>\n",
       "      <td>R.E.M.</td>\n",
       "      <td>1987</td>\n",
       "      <td>2024</td>\n",
       "    </tr>\n",
       "    <tr>\n",
       "      <th>51999</th>\n",
       "      <td>2000</td>\n",
       "      <td>I Sat By The Ocean</td>\n",
       "      <td>Queens Of The Stone Age</td>\n",
       "      <td>2013</td>\n",
       "      <td>2024</td>\n",
       "    </tr>\n",
       "  </tbody>\n",
       "</table>\n",
       "<p>52000 rows × 5 columns</p>\n",
       "</div>"
      ],
      "text/plain": [
       "       positie                                              titel  \\\n",
       "0            1                                  Bohemian Rhapsody   \n",
       "1            2                                   Hotel California   \n",
       "2            3                                      Child In Time   \n",
       "3            4                                 Stairway To Heaven   \n",
       "4            5                    Paradise By The Dashboard Light   \n",
       "...        ...                                                ...   \n",
       "51995     1996                       Once Upon A Time In The West   \n",
       "51996     1997                                         Bobby Jean   \n",
       "51997     1998                                   De Langste Nacht   \n",
       "51998     1999  It's The End Of The World As We Know It (Album...   \n",
       "51999     2000                                 I Sat By The Ocean   \n",
       "\n",
       "                       artiest  jaartal  lijst_jaar  \n",
       "0                        Queen     1975        1999  \n",
       "1                       Eagles     1977        1999  \n",
       "2                  Deep Purple     1972        1999  \n",
       "3                 Led Zeppelin     1971        1999  \n",
       "4                    Meat Loaf     1978        1999  \n",
       "...                        ...      ...         ...  \n",
       "51995             Dire Straits     1979        2024  \n",
       "51996        Bruce Springsteen     1984        2024  \n",
       "51997                 Goldband     2021        2024  \n",
       "51998                   R.E.M.     1987        2024  \n",
       "51999  Queens Of The Stone Age     2013        2024  \n",
       "\n",
       "[52000 rows x 5 columns]"
      ]
     },
     "execution_count": 92,
     "metadata": {},
     "output_type": "execute_result"
    }
   ],
   "source": [
    "folder = \"data\"\n",
    "full = pd.DataFrame()\n",
    "start_year = 1999\n",
    "end_year = 2024\n",
    "\n",
    "for year in range(start_year, end_year+1):\n",
    "    df = pd.read_excel(f'{folder}/TOP-2000-{year}.xlsx')\n",
    "    if len(df) > 2000:\n",
    "        df = df.iloc[1:]\n",
    "    df.columns = [str.lower(col) for col in df.columns]\n",
    "    df.rename(columns=column_renames, inplace=True)\n",
    "    print(df.columns.values)\n",
    "    df['lijst_jaar'] = year\n",
    "    df['positie'] = df['positie'].astype(int)\n",
    "    df['jaartal'] = df['jaartal'].astype(int)\n",
    "    df['lijst_jaar'] = df['lijst_jaar'].astype(int)\n",
    "    full = pd.concat([full, df], ignore_index=True)\n",
    "full"
   ]
  },
  {
   "cell_type": "code",
   "execution_count": 93,
   "metadata": {},
   "outputs": [
    {
     "data": {
      "text/plain": [
       "('Bohemian Rhapsody', 'Queen')"
      ]
     },
     "execution_count": 93,
     "metadata": {},
     "output_type": "execute_result"
    }
   ],
   "source": [
    "song_example, artist_example = full['titel'][0], full['artiest'][0]\n",
    "song_example, artist_example"
   ]
  },
  {
   "cell_type": "code",
   "execution_count": 94,
   "metadata": {},
   "outputs": [
    {
     "data": {
      "text/plain": [
       "(5581, 52000)"
      ]
     },
     "execution_count": 94,
     "metadata": {},
     "output_type": "execute_result"
    }
   ],
   "source": [
    "no_duplicates = full[[\"titel\", \"artiest\"]].drop_duplicates()\n",
    "len(no_duplicates), len(full)"
   ]
  },
  {
   "cell_type": "code",
   "execution_count": 10,
   "metadata": {},
   "outputs": [],
   "source": [
    "from dotenv import load_dotenv\n",
    "import os\n",
    "\n",
    "load_dotenv()\n",
    "API_KEY = os.getenv(\"API_KEY\")"
   ]
  },
  {
   "cell_type": "code",
   "execution_count": 16,
   "metadata": {},
   "outputs": [],
   "source": [
    "base_url = \"http://ws.audioscrobbler.com/2.0/\"\n",
    "\n",
    "def get_metadata(song, artist):\n",
    "    try:\n",
    "      # Make the request\n",
    "      params = {\n",
    "        \"method\": \"track.getInfo\",\n",
    "        \"api_key\": API_KEY,\n",
    "        \"artist\": artist,\n",
    "        \"track\": song,\n",
    "        \"format\": \"json\"\n",
    "      }\n",
    "\n",
    "      response = requests.get(\n",
    "          base_url,\n",
    "          params=params,\n",
    "      )\n",
    "\n",
    "      # Raise an error for bad status codes\n",
    "      response.raise_for_status()\n",
    "      data = response.json()\n",
    "      return data\n",
    "\n",
    "    except requests.exceptions.RequestException as e:\n",
    "      print(f\"Request failed: {str(e)}\")"
   ]
  },
  {
   "cell_type": "code",
   "execution_count": 34,
   "metadata": {},
   "outputs": [],
   "source": [
    "def get_relevant_info(i: dict) -> dict:\n",
    "    if i is None:\n",
    "        return None\n",
    "    t = i.get(\"track\")\n",
    "    if t is None:\n",
    "        return None\n",
    "    \n",
    "    max_tags = 3\n",
    "    \n",
    "    return {\n",
    "        \"duration\": t.get(\"duration\"),\n",
    "        \"album\": t.get(\"album\", {}).get(\"title\"),\n",
    "        \"tags\": [tag[\"name\"] for tag in t.get(\"toptags\", {}).get(\"tag\", [])[:max_tags]],\n",
    "    }"
   ]
  },
  {
   "cell_type": "code",
   "execution_count": 35,
   "metadata": {},
   "outputs": [],
   "source": [
    "first = no_duplicates.iloc[1]\n",
    "data = get_metadata(first['titel'], first['artiest'])\n",
    "rel_data = get_relevant_info(data)\n",
    "rel_data"
   ]
  },
  {
   "cell_type": "code",
   "execution_count": 72,
   "metadata": {},
   "outputs": [],
   "source": [
    "from tqdm import tqdm\n",
    "full_df_list = []"
   ]
  },
  {
   "cell_type": "code",
   "execution_count": 75,
   "metadata": {},
   "outputs": [],
   "source": [
    "missing_indexes = []"
   ]
  },
  {
   "cell_type": "code",
   "execution_count": 85,
   "metadata": {},
   "outputs": [
    {
     "name": "stderr",
     "output_type": "stream",
     "text": [
      "  3%|▎         | 48/1581 [00:10<05:17,  4.83it/s]"
     ]
    },
    {
     "name": "stdout",
     "output_type": "stream",
     "text": [
      "Could not find data for Let It Happen  by Tame Impala\n"
     ]
    },
    {
     "name": "stderr",
     "output_type": "stream",
     "text": [
      "  3%|▎         | 51/1581 [00:11<06:07,  4.16it/s]"
     ]
    },
    {
     "name": "stdout",
     "output_type": "stream",
     "text": [
      "Could not find data for Buddy Holly   by Weezer \n"
     ]
    },
    {
     "name": "stderr",
     "output_type": "stream",
     "text": [
      "  4%|▍         | 62/1581 [00:13<05:15,  4.81it/s]"
     ]
    },
    {
     "name": "stdout",
     "output_type": "stream",
     "text": [
      "Could not find data for Killing Moon  by Echo & The Bunnymen \n"
     ]
    },
    {
     "name": "stderr",
     "output_type": "stream",
     "text": [
      " 17%|█▋        | 274/1581 [01:05<04:03,  5.37it/s]"
     ]
    },
    {
     "name": "stdout",
     "output_type": "stream",
     "text": [
      "Could not find data for The Unforgiven II  by Metallica\n"
     ]
    },
    {
     "name": "stderr",
     "output_type": "stream",
     "text": [
      " 34%|███▎      | 532/1581 [02:01<03:37,  4.82it/s]"
     ]
    },
    {
     "name": "stdout",
     "output_type": "stream",
     "text": [
      "Could not find data for Like A Hurricane  by Neil Young\n"
     ]
    },
    {
     "name": "stderr",
     "output_type": "stream",
     "text": [
      " 64%|██████▎   | 1007/1581 [03:47<01:42,  5.60it/s]"
     ]
    },
    {
     "name": "stdout",
     "output_type": "stream",
     "text": [
      "Could not find data for .. In Paris by Kanye West & Jay-Z\n"
     ]
    },
    {
     "name": "stderr",
     "output_type": "stream",
     "text": [
      " 66%|██████▌   | 1042/1581 [03:54<01:26,  6.21it/s]"
     ]
    },
    {
     "name": "stdout",
     "output_type": "stream",
     "text": [
      "Could not find data for Can't Get It Out Of My Head by ﻿Electric Light Orchestra\n"
     ]
    },
    {
     "name": "stderr",
     "output_type": "stream",
     "text": [
      " 86%|████████▌ | 1353/1581 [04:54<00:42,  5.41it/s]"
     ]
    },
    {
     "name": "stdout",
     "output_type": "stream",
     "text": [
      "Could not find data for Sweet Sounds Of Heaven (Albumversie) by Rolling Stones ft. Lady Gaga & Stevie Wonder\n"
     ]
    },
    {
     "name": "stderr",
     "output_type": "stream",
     "text": [
      " 86%|████████▌ | 1360/1581 [04:55<00:44,  5.01it/s]"
     ]
    },
    {
     "name": "stdout",
     "output_type": "stream",
     "text": [
      "Could not find data for Musica È (Albumversie) by Eros Ramazzotti\n"
     ]
    },
    {
     "name": "stderr",
     "output_type": "stream",
     "text": [
      " 86%|████████▋ | 1366/1581 [04:56<00:36,  5.93it/s]"
     ]
    },
    {
     "name": "stdout",
     "output_type": "stream",
     "text": [
      "Could not find data for You Took The Words Right Out Of My Mouth (Hot Summer Night) (Albumversie) by Meat Loaf\n"
     ]
    },
    {
     "name": "stderr",
     "output_type": "stream",
     "text": [
      " 87%|████████▋ | 1379/1581 [04:59<00:35,  5.70it/s]"
     ]
    },
    {
     "name": "stdout",
     "output_type": "stream",
     "text": [
      "Could not find data for Comptine D'un Autre Éte, L'apres Midi (Amelie) by Yann Tiersen\n"
     ]
    },
    {
     "name": "stderr",
     "output_type": "stream",
     "text": [
      " 93%|█████████▎| 1478/1581 [05:17<00:19,  5.34it/s]"
     ]
    },
    {
     "name": "stdout",
     "output_type": "stream",
     "text": [
      "Could not find data for All Of Me (Albumversie) by John Legend\n"
     ]
    },
    {
     "name": "stderr",
     "output_type": "stream",
     "text": [
      " 96%|█████████▌| 1513/1581 [05:25<00:13,  5.08it/s]"
     ]
    },
    {
     "name": "stdout",
     "output_type": "stream",
     "text": [
      "Could not find data for The Spirit Of Radio (Albumversie) by Rush\n"
     ]
    },
    {
     "name": "stderr",
     "output_type": "stream",
     "text": [
      " 97%|█████████▋| 1538/1581 [05:31<00:10,  3.97it/s]"
     ]
    },
    {
     "name": "stdout",
     "output_type": "stream",
     "text": [
      "Could not find data for Common People (Albumversie) by Pulp\n"
     ]
    },
    {
     "name": "stderr",
     "output_type": "stream",
     "text": [
      " 98%|█████████▊| 1543/1581 [05:31<00:06,  5.70it/s]"
     ]
    },
    {
     "name": "stdout",
     "output_type": "stream",
     "text": [
      "Could not find data for Whisky In The Jar (Albumversie) by Thin Lizzy\n"
     ]
    },
    {
     "name": "stderr",
     "output_type": "stream",
     "text": [
      " 98%|█████████▊| 1557/1581 [05:34<00:04,  5.29it/s]"
     ]
    },
    {
     "name": "stdout",
     "output_type": "stream",
     "text": [
      "Could not find data for Just The Two Of Us (Albumversie) by Bill Withers & Grover Washington, Jr.\n"
     ]
    },
    {
     "name": "stderr",
     "output_type": "stream",
     "text": [
      " 99%|█████████▉| 1571/1581 [05:37<00:01,  5.19it/s]"
     ]
    },
    {
     "name": "stdout",
     "output_type": "stream",
     "text": [
      "Could not find data for Teardrops (Albumversie) by Womack & Womack\n"
     ]
    },
    {
     "name": "stderr",
     "output_type": "stream",
     "text": [
      "100%|█████████▉| 1579/1581 [05:38<00:00,  5.34it/s]"
     ]
    },
    {
     "name": "stdout",
     "output_type": "stream",
     "text": [
      "Could not find data for Fame (Albumversie) by David Bowie\n"
     ]
    },
    {
     "name": "stderr",
     "output_type": "stream",
     "text": [
      "100%|██████████| 1581/1581 [05:39<00:00,  4.66it/s]"
     ]
    },
    {
     "name": "stdout",
     "output_type": "stream",
     "text": [
      "Could not find data for It's The End Of The World As We Know It (Albumversie) by R.E.M.\n"
     ]
    },
    {
     "name": "stderr",
     "output_type": "stream",
     "text": [
      "\n"
     ]
    },
    {
     "data": {
      "text/plain": [
       "6948"
      ]
     },
     "execution_count": 85,
     "metadata": {},
     "output_type": "execute_result"
    }
   ],
   "source": [
    "start_pos = 4000\n",
    "end_pos = len(no_duplicates)\n",
    "\n",
    "for i in tqdm(range(start_pos, end_pos)):\n",
    "    track = no_duplicates.iloc[i]\n",
    "    track_name = track['titel']\n",
    "    artist_name = track['artiest']\n",
    "    data = get_metadata(track_name, artist_name)\n",
    "    rel_data = get_relevant_info(data)\n",
    "    if rel_data is not None:\n",
    "        rel_data[\"artist\"] = artist_name\n",
    "        rel_data[\"song\"] = track_name\n",
    "        full_df_list.append(rel_data)\n",
    "    else:\n",
    "        print(f\"Could not find data for {track_name} by {artist_name}\")\n",
    "        missing_indexes.append(i)\n",
    "\n",
    "len(full_df_list)"
   ]
  },
  {
   "cell_type": "code",
   "execution_count": 95,
   "metadata": {},
   "outputs": [
    {
     "data": {
      "text/plain": [
       "(6948, 5581)"
      ]
     },
     "execution_count": 95,
     "metadata": {},
     "output_type": "execute_result"
    }
   ],
   "source": [
    "len(full_df_list), len(no_duplicates)"
   ]
  },
  {
   "cell_type": "code",
   "execution_count": 97,
   "metadata": {},
   "outputs": [
    {
     "data": {
      "text/html": [
       "<div>\n",
       "<style scoped>\n",
       "    .dataframe tbody tr th:only-of-type {\n",
       "        vertical-align: middle;\n",
       "    }\n",
       "\n",
       "    .dataframe tbody tr th {\n",
       "        vertical-align: top;\n",
       "    }\n",
       "\n",
       "    .dataframe thead th {\n",
       "        text-align: right;\n",
       "    }\n",
       "</style>\n",
       "<table border=\"1\" class=\"dataframe\">\n",
       "  <thead>\n",
       "    <tr style=\"text-align: right;\">\n",
       "      <th></th>\n",
       "      <th>titel</th>\n",
       "      <th>artiest</th>\n",
       "    </tr>\n",
       "  </thead>\n",
       "  <tbody>\n",
       "    <tr>\n",
       "      <th>208</th>\n",
       "      <td>Whole Lotta Love</td>\n",
       "      <td>Led Zeppelin</td>\n",
       "    </tr>\n",
       "    <tr>\n",
       "      <th>215</th>\n",
       "      <td>Layla</td>\n",
       "      <td>Derek &amp; The Dominos</td>\n",
       "    </tr>\n",
       "    <tr>\n",
       "      <th>363</th>\n",
       "      <td>Still Got The Blues</td>\n",
       "      <td>Gary Moore</td>\n",
       "    </tr>\n",
       "    <tr>\n",
       "      <th>395</th>\n",
       "      <td>Limburg</td>\n",
       "      <td>Rowwen Hèze</td>\n",
       "    </tr>\n",
       "    <tr>\n",
       "      <th>564</th>\n",
       "      <td>Eight Miles High</td>\n",
       "      <td>Byrds</td>\n",
       "    </tr>\n",
       "    <tr>\n",
       "      <th>...</th>\n",
       "      <td>...</td>\n",
       "      <td>...</td>\n",
       "    </tr>\n",
       "    <tr>\n",
       "      <th>51650</th>\n",
       "      <td>Whisky In The Jar (Albumversie)</td>\n",
       "      <td>Thin Lizzy</td>\n",
       "    </tr>\n",
       "    <tr>\n",
       "      <th>51809</th>\n",
       "      <td>Just The Two Of Us (Albumversie)</td>\n",
       "      <td>Bill Withers &amp; Grover Washington, Jr.</td>\n",
       "    </tr>\n",
       "    <tr>\n",
       "      <th>51964</th>\n",
       "      <td>Teardrops (Albumversie)</td>\n",
       "      <td>Womack &amp; Womack</td>\n",
       "    </tr>\n",
       "    <tr>\n",
       "      <th>51993</th>\n",
       "      <td>Fame (Albumversie)</td>\n",
       "      <td>David Bowie</td>\n",
       "    </tr>\n",
       "    <tr>\n",
       "      <th>51998</th>\n",
       "      <td>It's The End Of The World As We Know It (Album...</td>\n",
       "      <td>R.E.M.</td>\n",
       "    </tr>\n",
       "  </tbody>\n",
       "</table>\n",
       "<p>67 rows × 2 columns</p>\n",
       "</div>"
      ],
      "text/plain": [
       "                                                   titel  \\\n",
       "208                                    Whole Lotta Love    \n",
       "215                                               Layla    \n",
       "363                                 Still Got The Blues    \n",
       "395                                             Limburg    \n",
       "564                                     Eight Miles High   \n",
       "...                                                  ...   \n",
       "51650                    Whisky In The Jar (Albumversie)   \n",
       "51809                   Just The Two Of Us (Albumversie)   \n",
       "51964                            Teardrops (Albumversie)   \n",
       "51993                                 Fame (Albumversie)   \n",
       "51998  It's The End Of The World As We Know It (Album...   \n",
       "\n",
       "                                     artiest  \n",
       "208                             Led Zeppelin  \n",
       "215                      Derek & The Dominos  \n",
       "363                               Gary Moore  \n",
       "395                              Rowwen Hèze  \n",
       "564                                    Byrds  \n",
       "...                                      ...  \n",
       "51650                             Thin Lizzy  \n",
       "51809  Bill Withers & Grover Washington, Jr.  \n",
       "51964                        Womack & Womack  \n",
       "51993                            David Bowie  \n",
       "51998                                 R.E.M.  \n",
       "\n",
       "[67 rows x 2 columns]"
      ]
     },
     "execution_count": 97,
     "metadata": {},
     "output_type": "execute_result"
    }
   ],
   "source": [
    "no_duplicates.iloc[missing_indexes]"
   ]
  },
  {
   "cell_type": "code",
   "execution_count": 99,
   "metadata": {},
   "outputs": [
    {
     "data": {
      "text/plain": [
       "{'error': 6, 'message': 'Track not found', 'links': []}"
      ]
     },
     "execution_count": 99,
     "metadata": {},
     "output_type": "execute_result"
    }
   ],
   "source": [
    "track_name, artist_name = no_duplicates.iloc[missing_indexes[0]]\n",
    "data = get_metadata(track_name, artist_name)\n",
    "data"
   ]
  },
  {
   "cell_type": "code",
   "execution_count": 100,
   "metadata": {},
   "outputs": [
    {
     "data": {
      "text/html": [
       "<div>\n",
       "<style scoped>\n",
       "    .dataframe tbody tr th:only-of-type {\n",
       "        vertical-align: middle;\n",
       "    }\n",
       "\n",
       "    .dataframe tbody tr th {\n",
       "        vertical-align: top;\n",
       "    }\n",
       "\n",
       "    .dataframe thead th {\n",
       "        text-align: right;\n",
       "    }\n",
       "</style>\n",
       "<table border=\"1\" class=\"dataframe\">\n",
       "  <thead>\n",
       "    <tr style=\"text-align: right;\">\n",
       "      <th></th>\n",
       "      <th>duration</th>\n",
       "      <th>album</th>\n",
       "      <th>tags</th>\n",
       "      <th>artist</th>\n",
       "      <th>song</th>\n",
       "    </tr>\n",
       "  </thead>\n",
       "  <tbody>\n",
       "    <tr>\n",
       "      <th>0</th>\n",
       "      <td>355000</td>\n",
       "      <td>A Night at the Opera</td>\n",
       "      <td>[classic rock, rock, Queen]</td>\n",
       "      <td>Queen</td>\n",
       "      <td>Bohemian Rhapsody</td>\n",
       "    </tr>\n",
       "    <tr>\n",
       "      <th>1</th>\n",
       "      <td>360000</td>\n",
       "      <td>Hell Freezes Over</td>\n",
       "      <td>[classic rock, rock, 70s]</td>\n",
       "      <td>Eagles</td>\n",
       "      <td>Hotel California</td>\n",
       "    </tr>\n",
       "    <tr>\n",
       "      <th>2</th>\n",
       "      <td>1010000</td>\n",
       "      <td>Deepest Purple: The Very Best of Deep Purple</td>\n",
       "      <td>[classic rock, hard rock, rock]</td>\n",
       "      <td>Deep Purple</td>\n",
       "      <td>Child In Time</td>\n",
       "    </tr>\n",
       "    <tr>\n",
       "      <th>3</th>\n",
       "      <td>667000</td>\n",
       "      <td>Led Zeppelin IV</td>\n",
       "      <td>[classic rock, rock, Led Zeppelin]</td>\n",
       "      <td>Led Zeppelin</td>\n",
       "      <td>Stairway To Heaven</td>\n",
       "    </tr>\n",
       "    <tr>\n",
       "      <th>4</th>\n",
       "      <td>332000</td>\n",
       "      <td>Bat Out Of Hell</td>\n",
       "      <td>[classic rock, rock, Meat Loaf]</td>\n",
       "      <td>Meat Loaf</td>\n",
       "      <td>Paradise By The Dashboard Light</td>\n",
       "    </tr>\n",
       "    <tr>\n",
       "      <th>...</th>\n",
       "      <td>...</td>\n",
       "      <td>...</td>\n",
       "      <td>...</td>\n",
       "      <td>...</td>\n",
       "      <td>...</td>\n",
       "    </tr>\n",
       "    <tr>\n",
       "      <th>6943</th>\n",
       "      <td>241000</td>\n",
       "      <td>Dagen Van Gras, Dagen Van Stro</td>\n",
       "      <td>[dutch, Nederlandstalig, Spinvis]</td>\n",
       "      <td>Spinvis</td>\n",
       "      <td>Ik Wil Alleen Maar Zwemmen</td>\n",
       "    </tr>\n",
       "    <tr>\n",
       "      <th>6944</th>\n",
       "      <td>0</td>\n",
       "      <td>None</td>\n",
       "      <td>[]</td>\n",
       "      <td>Pink Floyd</td>\n",
       "      <td>Run Like Hell (Albumversie)</td>\n",
       "    </tr>\n",
       "    <tr>\n",
       "      <th>6945</th>\n",
       "      <td>0</td>\n",
       "      <td>None</td>\n",
       "      <td>[Nederlandstalig, pop, Nederpop]</td>\n",
       "      <td>Acda en De Munnik</td>\n",
       "      <td>Als Je Bij Me Weggaat</td>\n",
       "    </tr>\n",
       "    <tr>\n",
       "      <th>6946</th>\n",
       "      <td>320000</td>\n",
       "      <td>Communiqué</td>\n",
       "      <td>[rock, classic rock, dire straits]</td>\n",
       "      <td>Dire Straits</td>\n",
       "      <td>Once Upon A Time In The West</td>\n",
       "    </tr>\n",
       "    <tr>\n",
       "      <th>6947</th>\n",
       "      <td>209000</td>\n",
       "      <td>Born in the U.S.A.</td>\n",
       "      <td>[rock, classic rock, 80s]</td>\n",
       "      <td>Bruce Springsteen</td>\n",
       "      <td>Bobby Jean</td>\n",
       "    </tr>\n",
       "  </tbody>\n",
       "</table>\n",
       "<p>6948 rows × 5 columns</p>\n",
       "</div>"
      ],
      "text/plain": [
       "     duration                                         album  \\\n",
       "0      355000                          A Night at the Opera   \n",
       "1      360000                             Hell Freezes Over   \n",
       "2     1010000  Deepest Purple: The Very Best of Deep Purple   \n",
       "3      667000                               Led Zeppelin IV   \n",
       "4      332000                               Bat Out Of Hell   \n",
       "...       ...                                           ...   \n",
       "6943   241000                Dagen Van Gras, Dagen Van Stro   \n",
       "6944        0                                          None   \n",
       "6945        0                                          None   \n",
       "6946   320000                                    Communiqué   \n",
       "6947   209000                            Born in the U.S.A.   \n",
       "\n",
       "                                    tags             artist  \\\n",
       "0            [classic rock, rock, Queen]              Queen   \n",
       "1              [classic rock, rock, 70s]             Eagles   \n",
       "2        [classic rock, hard rock, rock]        Deep Purple   \n",
       "3     [classic rock, rock, Led Zeppelin]       Led Zeppelin   \n",
       "4        [classic rock, rock, Meat Loaf]          Meat Loaf   \n",
       "...                                  ...                ...   \n",
       "6943   [dutch, Nederlandstalig, Spinvis]            Spinvis   \n",
       "6944                                  []         Pink Floyd   \n",
       "6945    [Nederlandstalig, pop, Nederpop]  Acda en De Munnik   \n",
       "6946  [rock, classic rock, dire straits]       Dire Straits   \n",
       "6947           [rock, classic rock, 80s]  Bruce Springsteen   \n",
       "\n",
       "                                 song  \n",
       "0                   Bohemian Rhapsody  \n",
       "1                    Hotel California  \n",
       "2                       Child In Time  \n",
       "3                  Stairway To Heaven  \n",
       "4     Paradise By The Dashboard Light  \n",
       "...                               ...  \n",
       "6943       Ik Wil Alleen Maar Zwemmen  \n",
       "6944      Run Like Hell (Albumversie)  \n",
       "6945            Als Je Bij Me Weggaat  \n",
       "6946     Once Upon A Time In The West  \n",
       "6947                       Bobby Jean  \n",
       "\n",
       "[6948 rows x 5 columns]"
      ]
     },
     "execution_count": 100,
     "metadata": {},
     "output_type": "execute_result"
    }
   ],
   "source": [
    "full_df_including_meta = pd.DataFrame(full_df_list)\n",
    "full_df_including_meta"
   ]
  },
  {
   "cell_type": "code",
   "execution_count": 101,
   "metadata": {},
   "outputs": [
    {
     "data": {
      "text/plain": [
       "(5581, 5514)"
      ]
     },
     "execution_count": 101,
     "metadata": {},
     "output_type": "execute_result"
    }
   ],
   "source": [
    "no_dups = full_df_including_meta.drop_duplicates(subset=[\"artist\", \"song\"])\n",
    "len(no_duplicates), len(no_dups)"
   ]
  },
  {
   "cell_type": "code",
   "execution_count": 102,
   "metadata": {},
   "outputs": [],
   "source": [
    "no_dups.to_csv(\"data/song_metadata.csv\", index=False)"
   ]
  },
  {
   "cell_type": "code",
   "execution_count": null,
   "metadata": {},
   "outputs": [],
   "source": []
  }
 ],
 "metadata": {
  "kernelspec": {
   "display_name": ".venv",
   "language": "python",
   "name": "python3"
  },
  "language_info": {
   "codemirror_mode": {
    "name": "ipython",
    "version": 3
   },
   "file_extension": ".py",
   "mimetype": "text/x-python",
   "name": "python",
   "nbconvert_exporter": "python",
   "pygments_lexer": "ipython3",
   "version": "3.10.1"
  }
 },
 "nbformat": 4,
 "nbformat_minor": 2
}
