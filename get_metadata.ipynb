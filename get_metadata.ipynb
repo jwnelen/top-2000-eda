{
 "cells": [
  {
   "cell_type": "code",
   "execution_count": 2,
   "metadata": {},
   "outputs": [],
   "source": [
    "import numpy as np\n",
    "import pandas as pd\n",
    "import requests"
   ]
  },
  {
   "cell_type": "code",
   "execution_count": 3,
   "metadata": {},
   "outputs": [],
   "source": [
    "folder = \"data\"\n",
    " \n",
    "df = pd.read_excel(f'{folder}/TOP-2000-2024.xlsx')"
   ]
  },
  {
   "cell_type": "code",
   "execution_count": 12,
   "metadata": {},
   "outputs": [
    {
     "data": {
      "text/plain": [
       "('Bohemian Rhapsody', 'Queen')"
      ]
     },
     "execution_count": 12,
     "metadata": {},
     "output_type": "execute_result"
    }
   ],
   "source": [
    "song_example, artist_example = df['Titel'][0], df['Artiest'][0]\n",
    "song_example, artist_example"
   ]
  },
  {
   "cell_type": "code",
   "execution_count": 15,
   "metadata": {},
   "outputs": [],
   "source": [
    "from dotenv import load_dotenv\n",
    "import os\n",
    "\n",
    "load_dotenv()\n",
    "API_KEY = os.getenv(\"API_KEY\")"
   ]
  },
  {
   "cell_type": "code",
   "execution_count": 19,
   "metadata": {},
   "outputs": [],
   "source": [
    "base_url = \"http://ws.audioscrobbler.com/2.0/\"\n",
    "params = {\n",
    "  \"method\": \"track.getInfo\",\n",
    "  \"api_key\": API_KEY,\n",
    "  \"artist\": artist_example,\n",
    "  \"track\": song_example,\n",
    "  \"format\": \"json\"\n",
    "}"
   ]
  },
  {
   "cell_type": "code",
   "execution_count": 20,
   "metadata": {},
   "outputs": [
    {
     "name": "stdout",
     "output_type": "stream",
     "text": [
      "{'track': {'name': 'Bohemian Rhapsody', 'mbid': 'ecfa6746-7bc4-4088-ace6-d209477bd63f', 'url': 'https://www.last.fm/music/Queen/_/Bohemian+Rhapsody', 'duration': '355000', 'streamable': {'#text': '0', 'fulltrack': '0'}, 'listeners': '1917312', 'playcount': '13265133', 'artist': {'name': 'Queen', 'mbid': '420ca290-76c5-41af-999e-564d7c71f1a7', 'url': 'https://www.last.fm/music/Queen'}, 'album': {'artist': 'Queen', 'title': 'A Night at the Opera', 'mbid': 'b0c9a519-dda0-4a35-9fa6-52e0b0b995b2', 'url': 'https://www.last.fm/music/Queen/A+Night+at+the+Opera', 'image': [{'#text': 'https://lastfm.freetls.fastly.net/i/u/34s/03beaee047a99a75c8347461094c2344.png', 'size': 'small'}, {'#text': 'https://lastfm.freetls.fastly.net/i/u/64s/03beaee047a99a75c8347461094c2344.png', 'size': 'medium'}, {'#text': 'https://lastfm.freetls.fastly.net/i/u/174s/03beaee047a99a75c8347461094c2344.png', 'size': 'large'}, {'#text': 'https://lastfm.freetls.fastly.net/i/u/300x300/03beaee047a99a75c8347461094c2344.png', 'size': 'extralarge'}], '@attr': {'position': '11'}}, 'toptags': {'tag': [{'name': 'classic rock', 'url': 'https://www.last.fm/tag/classic+rock'}, {'name': 'rock', 'url': 'https://www.last.fm/tag/rock'}, {'name': 'Queen', 'url': 'https://www.last.fm/tag/Queen'}, {'name': '70s', 'url': 'https://www.last.fm/tag/70s'}, {'name': '80s', 'url': 'https://www.last.fm/tag/80s'}]}, 'wiki': {'published': '14 Jul 2008, 05:58', 'summary': '\"Bohemian Rhapsody\" is a song written by Freddie Mercury and originally recorded by the band Queen for their 1975 album A Night at the Opera.\\n\\nThe song is in the style of a stream-of-consciousness nightmare, and has unusual musical structure for popular music (it has no chorus, instead consisting of seemingly disjointed sections including operatic segments, an a cappella and a hard rock part) which works beyond the range of this reviewer. Despite this, it was released as a single and became a huge commercial success.  <a href=\"http://www.last.fm/music/Queen/_/Bohemian+Rhapsody\">Read more on Last.fm</a>.', 'content': '\"Bohemian Rhapsody\" is a song written by Freddie Mercury and originally recorded by the band Queen for their 1975 album A Night at the Opera.\\n\\nThe song is in the style of a stream-of-consciousness nightmare, and has unusual musical structure for popular music (it has no chorus, instead consisting of seemingly disjointed sections including operatic segments, an a cappella and a hard rock part) which works beyond the range of this reviewer. Despite this, it was released as a single and became a huge commercial success. \\n\\nBohemian Rhapsody is widely hailed as Queen\\'s \"magnum opus\", and it marked a decisive point in the band\\'s career and set them on the way to become one of the world\\'s most popular music groups.  The single was accompanied by a groundbreaking music video (then termed a \"promotional video\") which helped establish the visual language of the modern music video. \\n\\nA truncated version of the song was included in all Queen\\'s subsequent live concert performances (as the band could not recreate the middle section live, because of the many overdubbed voices) and still enjoys great popularity around the world.\\n\\nIn January 1976,  Freddie Mercury was interviewed by Sounds regarding the writing process of the song.:\\n\\n\"I\\'m going to shatter some illusions, it was just one of those pieces I wrote for the album: just writing my batch of songs. In its early stages I almost rejected it, but then it grew. We started deciding on a single about halfway through. There were a few contenders - we were thinking of \\'The Prophet\\'s Song\\' at one point - but then \\'Bohemian Rhapsody\\' seemed the one. There was a time when the others wanted to chop it around a bit, but I refused. If it was going to be released, it would be in its entirety. We knew it was very risky, but we had so much confidence in that song - I did anyway. I felt, underneath it all, that if it was successful it would earn a lot of respect. People were all going, You\\'re joking, they\\'ll never play it, you\\'ll only hear the first few bars and then they\\'ll fade it out. We had numerous rows. EMI were shocked - A six-minute single? You must be joking! The same in America - Oh, you just got away with it in Britain.\"\\n\\nIn a 1982 interview with  On The Record, Queen guitarist Brian May discussed the song\\'s vocal harmonies, and creating the now famous solo.\\n\\nInterviewer: Who came up with the idea for the vocal harmonies used in \"Bohemian Rhapsody\"?\\n\\nBrian May:  We always were keen on that kind of thing. That was something which we wanted to do from the beginning. We wanted to be a group that could do the heaviness of hard rock, but also have harmonies swooping around all over the place. We thought there was some real power and emotion in that combination.\\n\\nInterviewer: Was the first solo in that song very difficult for you?\\n\\nBrian May: No, that was pretty much off the cuff, except I think I had plenty of time to think about that one. I remember playing along with it in the studio for a while when other things were being done. I knew what kind of melody I wanted to play. \\n\\nJohn Deacon spoke about the song in a 1977 interview: \"When we finished the album, the Night at the Opera album, that was the track on it that we thought we were gonna release as a single in England first. And when we released it in England we didn\\'t necessarily think it\\'d be released in America, cause we know even over here, you know, the AM tastes are even more (hesitates) stricter. Anyway we did have thoughts about even in England, perhaps editing it down at all, but we listened to it over and over again and there was no way we could edit it. We tried a few ideas, but if you edited it, you always lost some part of the song, so we had to leave it all in. And luckily it took off anyway.\" <a href=\"http://www.last.fm/music/Queen/_/Bohemian+Rhapsody\">Read more on Last.fm</a>. User-contributed text is available under the Creative Commons By-SA License; additional terms may apply.'}}}\n"
     ]
    }
   ],
   "source": [
    "try:\n",
    "    # Make the request\n",
    "    response = requests.get(\n",
    "        base_url,\n",
    "        params=params,\n",
    "    )\n",
    "\n",
    "    # Raise an error for bad status codes\n",
    "    response.raise_for_status()\n",
    "    data = response.json()\n",
    "    print(data)\n",
    "\n",
    "except requests.exceptions.RequestException as e:\n",
    "    print(f\"Request failed: {str(e)}\")\n",
    "    raise"
   ]
  },
  {
   "cell_type": "code",
   "execution_count": 24,
   "metadata": {},
   "outputs": [
    {
     "data": {
      "text/plain": [
       "5.916666666666667"
      ]
     },
     "execution_count": 24,
     "metadata": {},
     "output_type": "execute_result"
    }
   ],
   "source": [
    "int(data[\"track\"][\"duration\"]) / 60000"
   ]
  },
  {
   "cell_type": "code",
   "execution_count": null,
   "metadata": {},
   "outputs": [],
   "source": []
  }
 ],
 "metadata": {
  "kernelspec": {
   "display_name": ".venv",
   "language": "python",
   "name": "python3"
  },
  "language_info": {
   "codemirror_mode": {
    "name": "ipython",
    "version": 3
   },
   "file_extension": ".py",
   "mimetype": "text/x-python",
   "name": "python",
   "nbconvert_exporter": "python",
   "pygments_lexer": "ipython3",
   "version": "3.10.1"
  }
 },
 "nbformat": 4,
 "nbformat_minor": 2
}
